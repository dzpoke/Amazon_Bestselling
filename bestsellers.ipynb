{
 "cells": [
  {
   "cell_type": "markdown",
   "metadata": {},
   "source": [
    "### Fonte [Kaggle](https://www.kaggle.com/datasets) 🔗\n",
    "\n",
    "##### Projeto: Amazon Top 50 Bestselling Books 2009 - 2019\n",
    "##### Objetivo: Análise exploratória de dados.\n",
    "##### Fonte do conjunto: [Amazon Top 50 Bestselling Book](https://www.kaggle.com/datasets/sootersaalu/amazon-top-50-bestselling-books-2009-2019/data)\n",
    "\n",
    "##### Objetivo: Responder as questões abaixo\n",
    "\n",
    "- Qual gênero tem mais livros nesta categoria?\n",
    "- Qual é a classificação média de cada gênero?\n",
    "- Qual é a popularidade de cada gênero e sua relação com o tempo?\n",
    "- Em que ano houve mais livros vendidos nesta categoria?\n",
    "- Que efeito o tempo teve no preço dos livros ao longo dos anos?\n",
    "- Preço dos livros de cada gênero ao longo dos anos.\n",
    "- Como têm sido as avaliações dos clientes ao longo dos anos?\n",
    "- Quais gêneros têm as classificações mais altas e mais baixas?\n",
    "- Qual autor é mais popular e quais ganharam mais nesta categoria?\n",
    "- Quem é o autor mais popular de cada gênero?\n",
    "- Quais livros ganharam mais dinheiro em cada gênero?\n",
    "- O dinheiro que gera livros em geral.\n",
    "- Qual é a relação da venda com as classificações?"
   ]
  },
  {
   "cell_type": "markdown",
   "metadata": {},
   "source": [
    "Importando as bibliotecas 📚"
   ]
  },
  {
   "cell_type": "code",
   "execution_count": 43,
   "metadata": {},
   "outputs": [],
   "source": [
    "import pandas as pd\n",
    "import seaborn as snsclea\n",
    "import matplotlib.pyplot as plt\n",
    "import numpy as np"
   ]
  },
  {
   "cell_type": "markdown",
   "metadata": {},
   "source": [
    "Carregando o conjunto de dados 🎲"
   ]
  },
  {
   "cell_type": "code",
   "execution_count": 44,
   "metadata": {},
   "outputs": [],
   "source": [
    "df_bestsellers = pd.read_csv('./dataset/bestsellers with categories.csv', encoding = 'latin-1', dtype={'Price': float})"
   ]
  },
  {
   "cell_type": "code",
   "execution_count": 45,
   "metadata": {},
   "outputs": [
    {
     "data": {
      "text/html": [
       "<div>\n",
       "<style scoped>\n",
       "    .dataframe tbody tr th:only-of-type {\n",
       "        vertical-align: middle;\n",
       "    }\n",
       "\n",
       "    .dataframe tbody tr th {\n",
       "        vertical-align: top;\n",
       "    }\n",
       "\n",
       "    .dataframe thead th {\n",
       "        text-align: right;\n",
       "    }\n",
       "</style>\n",
       "<table border=\"1\" class=\"dataframe\">\n",
       "  <thead>\n",
       "    <tr style=\"text-align: right;\">\n",
       "      <th></th>\n",
       "      <th>Name</th>\n",
       "      <th>Author</th>\n",
       "      <th>User Rating</th>\n",
       "      <th>Reviews</th>\n",
       "      <th>Price</th>\n",
       "      <th>Year</th>\n",
       "      <th>Genre</th>\n",
       "    </tr>\n",
       "  </thead>\n",
       "  <tbody>\n",
       "    <tr>\n",
       "      <th>0</th>\n",
       "      <td>10-Day Green Smoothie Cleanse</td>\n",
       "      <td>JJ Smith</td>\n",
       "      <td>4.7</td>\n",
       "      <td>17350</td>\n",
       "      <td>8.0</td>\n",
       "      <td>2016</td>\n",
       "      <td>Non Fiction</td>\n",
       "    </tr>\n",
       "    <tr>\n",
       "      <th>1</th>\n",
       "      <td>11/22/63: A Novel</td>\n",
       "      <td>Stephen King</td>\n",
       "      <td>4.6</td>\n",
       "      <td>2052</td>\n",
       "      <td>22.0</td>\n",
       "      <td>2011</td>\n",
       "      <td>Fiction</td>\n",
       "    </tr>\n",
       "    <tr>\n",
       "      <th>2</th>\n",
       "      <td>12 Rules for Life: An Antidote to Chaos</td>\n",
       "      <td>Jordan B. Peterson</td>\n",
       "      <td>4.7</td>\n",
       "      <td>18979</td>\n",
       "      <td>15.0</td>\n",
       "      <td>2018</td>\n",
       "      <td>Non Fiction</td>\n",
       "    </tr>\n",
       "    <tr>\n",
       "      <th>3</th>\n",
       "      <td>1984 (Signet Classics)</td>\n",
       "      <td>George Orwell</td>\n",
       "      <td>4.7</td>\n",
       "      <td>21424</td>\n",
       "      <td>6.0</td>\n",
       "      <td>2017</td>\n",
       "      <td>Fiction</td>\n",
       "    </tr>\n",
       "    <tr>\n",
       "      <th>4</th>\n",
       "      <td>5,000 Awesome Facts (About Everything!) (Natio...</td>\n",
       "      <td>National Geographic Kids</td>\n",
       "      <td>4.8</td>\n",
       "      <td>7665</td>\n",
       "      <td>12.0</td>\n",
       "      <td>2019</td>\n",
       "      <td>Non Fiction</td>\n",
       "    </tr>\n",
       "  </tbody>\n",
       "</table>\n",
       "</div>"
      ],
      "text/plain": [
       "                                                Name  \\\n",
       "0                      10-Day Green Smoothie Cleanse   \n",
       "1                                  11/22/63: A Novel   \n",
       "2            12 Rules for Life: An Antidote to Chaos   \n",
       "3                             1984 (Signet Classics)   \n",
       "4  5,000 Awesome Facts (About Everything!) (Natio...   \n",
       "\n",
       "                     Author  User Rating  Reviews  Price  Year        Genre  \n",
       "0                  JJ Smith          4.7    17350    8.0  2016  Non Fiction  \n",
       "1              Stephen King          4.6     2052   22.0  2011      Fiction  \n",
       "2        Jordan B. Peterson          4.7    18979   15.0  2018  Non Fiction  \n",
       "3             George Orwell          4.7    21424    6.0  2017      Fiction  \n",
       "4  National Geographic Kids          4.8     7665   12.0  2019  Non Fiction  "
      ]
     },
     "execution_count": 45,
     "metadata": {},
     "output_type": "execute_result"
    }
   ],
   "source": [
    "# Visualizando rapidamente uma amostra do conjunto\n",
    "\n",
    "df_bestsellers.head()"
   ]
  },
  {
   "cell_type": "code",
   "execution_count": 46,
   "metadata": {},
   "outputs": [
    {
     "data": {
      "text/plain": [
       "Name           0\n",
       "Author         0\n",
       "User Rating    0\n",
       "Reviews        0\n",
       "Price          0\n",
       "Year           0\n",
       "Genre          0\n",
       "dtype: int64"
      ]
     },
     "execution_count": 46,
     "metadata": {},
     "output_type": "execute_result"
    }
   ],
   "source": [
    "# Utilizando o encadeamento abaixo podemos verificar que NÃO EXISTEM REGISTROS VAZIOS no nosso conjunto, poderiamos\n",
    "# também ter utilizado o método .info() para obter o mesmo resultado.\n",
    "\n",
    "df_bestsellers.isnull().sum()"
   ]
  },
  {
   "cell_type": "code",
   "execution_count": 47,
   "metadata": {},
   "outputs": [
    {
     "data": {
      "text/plain": [
       "Name            object\n",
       "Author          object\n",
       "User Rating    float64\n",
       "Reviews          int64\n",
       "Price          float64\n",
       "Year             int64\n",
       "Genre           object\n",
       "dtype: object"
      ]
     },
     "execution_count": 47,
     "metadata": {},
     "output_type": "execute_result"
    }
   ],
   "source": [
    "# Verificando os tipos de dados notei que a coluna \"Price\" possuia o tipo de dados INT, preferi altera-lá para FLOAT no carregamento da base. \n",
    "# Mesmo que só guardemos valores inteiros nessa coluna o tipo FLOAT presenta melhoror esse tipo informação monetaria.\n",
    "\n",
    "df_bestsellers.dtypes"
   ]
  },
  {
   "cell_type": "code",
   "execution_count": 50,
   "metadata": {},
   "outputs": [
    {
     "data": {
      "text/plain": [
       "0      Non Fiction\n",
       "1          Fiction\n",
       "2      Non Fiction\n",
       "3          Fiction\n",
       "4      Non Fiction\n",
       "          ...     \n",
       "545        Fiction\n",
       "546    Non Fiction\n",
       "547    Non Fiction\n",
       "548    Non Fiction\n",
       "549    Non Fiction\n",
       "Name: Genre, Length: 550, dtype: object"
      ]
     },
     "execution_count": 50,
     "metadata": {},
     "output_type": "execute_result"
    }
   ],
   "source": [
    "df_bestsellers['Genre']"
   ]
  },
  {
   "cell_type": "markdown",
   "metadata": {},
   "source": [
    "📌 - Olhando o gráfico podemos constatar que o gênero de 'Non-Fiction'(Não é ficção) com 56.4% de repesentatividade é gênero mais consumido entre os Bestsellers de 2009 a 2019."
   ]
  },
  {
   "cell_type": "code",
   "execution_count": 82,
   "metadata": {},
   "outputs": [
    {
     "data": {
      "image/png": "[encoded data removed]",
      "text/plain": [
       "<Figure size 640x480 with 1 Axes>"
      ]
     },
     "metadata": {},
     "output_type": "display_data"
    }
   ],
   "source": [
    "sizes = df_bestsellers['Genre'].value_counts()\n",
    "labels = sizes.index\n",
    "\n",
    "def func(pct, allvals):\n",
    "    absolute = int(round(pct/100.*sum(allvals)))\n",
    "    return \"{:.1f}%\\n({:d})\".format(pct, absolute)\n",
    "\n",
    "\n",
    "plt.pie(sizes, labels=labels, autopct=lambda pct: func(pct, sizes), startangle=140)\n",
    "plt.title('Distribuição das Categorias')\n",
    "plt.axis('equal')\n",
    "plt.show()\n",
    "\n",
    "\n"
   ]
  }
 ],
 "metadata": {
  "kernelspec": {
   "display_name": "Python 3 (ipykernel)",
   "language": "python",
   "name": "python3"
  },
  "language_info": {
   "codemirror_mode": {
    "name": "ipython",
    "version": 3
   },
   "file_extension": ".py",
   "mimetype": "text/x-python",
   "name": "python",
   "nbconvert_exporter": "python",
   "pygments_lexer": "ipython3",
   "version": "3.10.12"
  }
 },
 "nbformat": 4,
 "nbformat_minor": 2
}
